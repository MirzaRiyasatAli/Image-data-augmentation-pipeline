{
  "nbformat": 4,
  "nbformat_minor": 0,
  "metadata": {
    "colab": {
      "provenance": []
    },
    "kernelspec": {
      "name": "python3",
      "display_name": "Python 3"
    },
    "language_info": {
      "name": "python"
    }
  },
  "cells": [
    {
      "cell_type": "code",
      "source": [
        "import cv2\n",
        "import albumentations as A\n",
        "import os\n",
        "import matplotlib.pyplot as plt\n",
        "from tqdm import tqdm"
      ],
      "metadata": {
        "id": "bwx_XXuQOdTQ"
      },
      "execution_count": null,
      "outputs": []
    },
    {
      "cell_type": "markdown",
      "source": [
        "\n",
        "# Define the augmentation pipeline\n"
      ],
      "metadata": {
        "id": "T2zhGUzcOhHY"
      }
    },
    {
      "cell_type": "code",
      "source": [
        "transform = A.Compose([\n",
        "    A.Rotate(limit=20, p=0.5),\n",
        "    A.RandomScale(scale_limit=(0.1, 0.4), p=0.5),  # Randomly scale image (10% to 40% zoom)\n",
        "    A.HorizontalFlip(p=0.5),\n",
        "    A.VerticalFlip(p=0.3),\n",
        "], bbox_params=A.BboxParams(format='yolo', label_fields=['category_ids']))"
      ],
      "metadata": {
        "id": "jBYU2xhhOiJu"
      },
      "execution_count": null,
      "outputs": []
    },
    {
      "cell_type": "code",
      "execution_count": null,
      "metadata": {
        "id": "cRxuH6ZEOauM"
      },
      "outputs": [],
      "source": [
        "# Function to process each image and its corresponding label file\n",
        "def process_image_and_label(image_path, bbox_file, output_images_dir, output_labels_dir, num_augments=5):\n",
        "    # Load the image\n",
        "    image = cv2.imread(image_path)\n",
        "    height, width, _ = image.shape\n",
        "\n",
        "    # Read bounding boxes\n",
        "    with open(bbox_file, 'r') as f:\n",
        "        lines = f.readlines()\n",
        "\n",
        "    # YOLO format: (class, x_center, y_center, width, height)\n",
        "    bboxes = [list(map(float, line.strip().split()[1:])) for line in lines]\n",
        "    classes = [int(line.strip().split()[0]) for line in lines]\n",
        "\n",
        "    # Function to save YOLO-format bbox file for augmented images\n",
        "    def save_bbox_file(output_image_path, augmented_bboxes, augmented_classes, output_labels_dir):\n",
        "        # Save the bounding boxes in YOLO format\n",
        "        base_filename = os.path.basename(output_image_path)\n",
        "        bbox_file_path = os.path.join(output_labels_dir, base_filename.replace('.jpg', '.txt'))\n",
        "\n",
        "        with open(bbox_file_path, 'w') as f:\n",
        "            for bbox, cls in zip(augmented_bboxes, augmented_classes):\n",
        "                # The bounding boxes are in [x_center, y_center, width, height] (normalized)\n",
        "                line = f\"{cls} \" + \" \".join(map(str, bbox)) + \"\\n\"\n",
        "                f.write(line)\n",
        "        print(f\"Saved augmented bbox file at {bbox_file_path}\")\n",
        "\n",
        "    # Generate and save augmented images and bounding boxes\n",
        "    for i in tqdm(range(num_augments)):  # Generate 'num_augments' examples\n",
        "        augmented = transform(image=image, bboxes=bboxes, category_ids=classes)\n",
        "        augmented_image = augmented['image']\n",
        "        augmented_bboxes = augmented['bboxes']\n",
        "        augmented_classes = augmented['category_ids']\n",
        "\n",
        "        # Save augmented image\n",
        "        output_image_path = os.path.join(output_images_dir, f\"{os.path.splitext(os.path.basename(image_path))[0]}_aug_{i}.jpg\")\n",
        "        cv2.imwrite(output_image_path, augmented_image)\n",
        "\n",
        "        # Save the augmented bounding boxes to a new file\n",
        "        save_bbox_file(output_image_path, augmented_bboxes, augmented_classes, output_labels_dir)\n",
        "\n",
        "        # Optional: Display original and augmented images side by side\n",
        "        if i == 0:  # Only display the first augmented image (can remove this condition to display all)\n",
        "            plt.figure(figsize=(12, 6))\n",
        "\n",
        "            # Original Image\n",
        "            plt.subplot(1, 2, 1)\n",
        "            visualize(image, bboxes, classes, title=\"Original\")\n",
        "\n",
        "            # Augmented Image\n",
        "            plt.subplot(1, 2, 2)\n",
        "            visualize(augmented_image, augmented_bboxes, augmented_classes, title=\"Augmented\")\n",
        "\n",
        "            plt.tight_layout()\n",
        "            # plt.show()\n",
        "\n",
        "# Function to visualize images with bounding boxes\n",
        "def visualize(image, bboxes, category_ids, output_path=None, title=None):\n",
        "    image_copy = image.copy()\n",
        "    height, width, _ = image.shape\n",
        "    for bbox, cls in zip(bboxes, category_ids):\n",
        "        x_center, y_center, box_width, box_height = bbox\n",
        "        x_min = int((x_center - box_width / 2) * width)\n",
        "        y_min = int((y_center - box_height / 2) * height)\n",
        "        x_max = int((x_center + box_width / 2) * width)\n",
        "        y_max = int((y_center + box_height / 2) * height)\n",
        "        cv2.rectangle(image_copy, (x_min, y_min), (x_max, y_max), (0, 255, 0), 2)\n",
        "        cv2.putText(image_copy, str(cls), (x_min, y_min - 10), cv2.FONT_HERSHEY_SIMPLEX, 0.5, (0, 255, 0), 1)\n",
        "    plt.imshow(cv2.cvtColor(image_copy, cv2.COLOR_BGR2RGB))\n",
        "    if title:\n",
        "        plt.title(title)\n",
        "    plt.axis('off')\n",
        "    if output_path:\n",
        "        plt.savefig(output_path)\n",
        "    # plt.show()\n",
        "\n",
        "# Main processing function\n",
        "def process_dataset(image_folder, label_folder, output_images_dir, output_labels_dir, num_augments=5):\n",
        "    # Create directories if they don't exist\n",
        "    os.makedirs(output_images_dir, exist_ok=True)\n",
        "    os.makedirs(output_labels_dir, exist_ok=True)\n",
        "\n",
        "    # Loop through all images in the image folder\n",
        "    image_files = [f for f in os.listdir(image_folder) if f.endswith(('.jpg', '.jpeg', '.png'))]\n",
        "\n",
        "    for image_file in tqdm(image_files):\n",
        "        image_path = os.path.join(image_folder, image_file)\n",
        "        label_file = os.path.join(label_folder, image_file.replace('.jpg', '.txt').replace('.jpeg', '.txt').replace('.png', '.txt'))\n",
        "\n",
        "        if os.path.exists(label_file):\n",
        "            process_image_and_label(image_path, label_file, output_images_dir, output_labels_dir, num_augments)\n",
        "        else:\n",
        "            print(f\"Warning: Label file for {image_file} not found. Skipping.\")"
      ]
    },
    {
      "cell_type": "code",
      "source": [
        "# Source Folders\n",
        "image_folder = \"/content/Hockey-Puck-Detection-1/train/images\"\n",
        "label_folder = \"/content/Hockey-Puck-Detection-1/train/labels\"\n",
        "\n",
        "# Destination Folders\n",
        "output_images_dir = \"/content/drive/MyDrive/Puck Dataset/augmented_images\"\n",
        "output_labels_dir = \"/content/drive/MyDrive/Puck Dataset/augmented_labels\"\n",
        "\n",
        "# Process the dataset (Generate 5 augmented examples per image)\n",
        "process_dataset(image_folder, label_folder, output_images_dir, output_labels_dir, num_augments=5)\n",
        "\n",
        "print(f\"Augmented images saved in {output_images_dir} and labels saved in {output_labels_dir}.\")"
      ],
      "metadata": {
        "id": "k926d9vgOv8X"
      },
      "execution_count": 1,
      "outputs": []
    }
  ]
}